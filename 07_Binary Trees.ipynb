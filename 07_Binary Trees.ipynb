{
 "cells": [
  {
   "cell_type": "code",
   "execution_count": 25,
   "metadata": {
    "collapsed": false
   },
   "outputs": [
    {
     "name": "stdout",
     "output_type": "stream",
     "text": [
      "1\n",
      "2\n",
      "3\n",
      "5\n",
      "6\n",
      "1\n",
      "2\n",
      "3\n",
      "5\n",
      "6\n",
      "7\n"
     ]
    }
   ],
   "source": [
    "class Node:\n",
    "    \n",
    "    def __init__(self, key , value):\n",
    "        self.key   = key\n",
    "        self.value = value\n",
    "        self.LeftChild = None\n",
    "        self.RightChild = None\n",
    "    \n",
    "    def GetKey(self):\n",
    "        return self.key\n",
    "    \n",
    "    def GetLeft(self):\n",
    "        return self.LeftChild\n",
    "    \n",
    "    def GetRight(self):\n",
    "        return self.RightChild\n",
    "    \n",
    "    def SetRight(self,key,value):\n",
    "        self.RightChild = Node(key, value)\n",
    "      \n",
    "    def SetLeft(self,key,value):\n",
    "        self.LeftChild = Node(key, value)\n",
    "    \n",
    "\n",
    "class BinarySearchTree:\n",
    "    \n",
    "    def __init__(self,key,value):\n",
    "        self.Root = Node(key,value)\n",
    "        \n",
    "    def insert(self,key,value):\n",
    "    \n",
    "        T = self.Root\n",
    "        #Previous = T\n",
    "        \n",
    "        while T!=None:\n",
    "            if key < T.GetKey():\n",
    "                Previous = T\n",
    "                T = T.GetLeft()\n",
    "            else:\n",
    "                Previous =  T\n",
    "                T = T.GetRight()\n",
    "        print Previous.GetKey()\n",
    "        if key < Previous.GetKey() :\n",
    "            Previous.SetLeft(key,value)\n",
    "        else:\n",
    "            Previous.SetRight(key,value)\n",
    "\n",
    "            \n",
    "    def print_tree(self):\n",
    "        self.inorder_walk(self.Root)\n",
    "        \n",
    "    def inorder_walk(self,Node):\n",
    "        if Node!=None:\n",
    "            self.inorder_walk(Node.GetLeft())\n",
    "            print Node.GetKey()\n",
    "            self.inorder_walk(Node.GetRight())\n",
    "        \n",
    "if __name__ == '__main__':\n",
    "    \n",
    "    MySearchTree = BinarySearchTree(1,1)\n",
    "    \n",
    "    MySearchTree.insert(2,5)\n",
    "    MySearchTree.insert(3,5)\n",
    "    MySearchTree.insert(5,5)\n",
    "    MySearchTree.insert(6,5)\n",
    "    MySearchTree.insert(7,5)\n",
    "    \n",
    "    MySearchTree.print_tree()"
   ]
  },
  {
   "cell_type": "code",
   "execution_count": 3,
   "metadata": {
    "collapsed": false
   },
   "outputs": [
    {
     "name": "stdout",
     "output_type": "stream",
     "text": [
      "1\n"
     ]
    }
   ],
   "source": [
    "print MySearchTree.Root.key\n"
   ]
  },
  {
   "cell_type": "code",
   "execution_count": 24,
   "metadata": {
    "collapsed": false
   },
   "outputs": [
    {
     "data": {
      "text/plain": [
       "7"
      ]
     },
     "execution_count": 24,
     "metadata": {},
     "output_type": "execute_result"
    }
   ],
   "source": [
    "MySearchTree.Root.LeftChild.key\n"
   ]
  },
  {
   "cell_type": "code",
   "execution_count": null,
   "metadata": {
    "collapsed": true
   },
   "outputs": [],
   "source": []
  }
 ],
 "metadata": {
  "anaconda-cloud": {},
  "kernelspec": {
   "display_name": "Python [default]",
   "language": "python",
   "name": "python2"
  },
  "language_info": {
   "codemirror_mode": {
    "name": "ipython",
    "version": 2
   },
   "file_extension": ".py",
   "mimetype": "text/x-python",
   "name": "python",
   "nbconvert_exporter": "python",
   "pygments_lexer": "ipython2",
   "version": "2.7.12"
  }
 },
 "nbformat": 4,
 "nbformat_minor": 1
}
