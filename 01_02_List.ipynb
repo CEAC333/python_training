{
 "cells": [
  {
   "cell_type": "markdown",
   "metadata": {
    "collapsed": false,
    "slideshow": {
     "slide_type": "slide"
    }
   },
   "source": [
    "# Data Structures\n",
    "___________________\n",
    "## Lists\n",
    "___________________\n",
    "**Andres Mendez-Vazquez**\n"
   ]
  },
  {
   "cell_type": "markdown",
   "metadata": {},
   "source": [
    "## Operations \n",
    "\n",
    "    * len(list)\n",
    "    * max(list)\n",
    "    * min(list)\n",
    "    * list.append(obj)\n",
    "    * list.index(obj) Returns the lowest index in list that obj appears.\n",
    "    * list.remove(obj)\n"
   ]
  }
 ],
 "metadata": {
  "anaconda-cloud": {},
  "kernelspec": {
   "display_name": "Python 2",
   "language": "python",
   "name": "python2"
  },
  "language_info": {
   "codemirror_mode": {
    "name": "ipython",
    "version": 2
   },
   "file_extension": ".py",
   "mimetype": "text/x-python",
   "name": "python",
   "nbconvert_exporter": "python",
   "pygments_lexer": "ipython2",
   "version": "2.7.12"
  }
 },
 "nbformat": 4,
 "nbformat_minor": 1
}
