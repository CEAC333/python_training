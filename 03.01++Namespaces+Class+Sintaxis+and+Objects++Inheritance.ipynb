{
 "cells": [
  {
   "cell_type": "markdown",
   "metadata": {
    "collapsed": true,
    "slideshow": {
     "slide_type": "slide"
    }
   },
   "source": [
    "# Acerca de Nombres y Objetos\n",
    "* <h3> Los objetos tienen individualidad, y múltiples nombres (en múltiples ámbitos) pueden estar únidos al mismo objeto. </h3>\n",
    "* <h3> Esto es conocido como aliasing en otros lenguajes.</h3> \n",
    " \n"
   ]
  },
  {
   "cell_type": "markdown",
   "metadata": {
    "slideshow": {
     "slide_type": "fragment"
    }
   },
   "source": [
    "## Aliasing tiene un efecto posiblemente sorprendente en las semánticas del código Python\n",
    "* <h3> Involucra objetos mutables como listas, diccionarios y la mayoría de los otros tipos de datos.<h3> "
   ]
  },
  {
   "cell_type": "markdown",
   "metadata": {
    "collapsed": true,
    "slideshow": {
     "slide_type": "subslide"
    }
   },
   "source": [
    "### Definición de namespace\n",
    "    * Un namespace es un mapeo de nombres a objetos. \n",
    "    * La mayoría de namespaces están actualmente implementados como diccionarios de Python.\n",
    "    \n",
    "    \n",
    "#### Ejemplos de namespaces:\n",
    "    * El conjunto de nombres built-in\n",
    "    * Los nombres globales de un modulo.\n",
    "    * Los nombres locales en la invocación de una función.\n",
    "    * El local namespace para una función es creada cuando la función es llamada."
   ]
  },
  {
   "cell_type": "markdown",
   "metadata": {
    "slideshow": {
     "slide_type": "subslide"
    }
   },
   "source": [
    "### Scopes\n",
    "\n",
    "    * Un scope es una región textual de un programa de Python donde un namespace es accesible directamente\n",
    "        * Aunque los scopes son determinados estáticamente, son usados dinámicamente."
   ]
  },
  {
   "cell_type": "markdown",
   "metadata": {
    "slideshow": {
     "slide_type": "fragment"
    }
   },
   "source": [
    "#### Hay al menos tres scopes anidados cuyos namespaces están accesibles directamente\n",
    "    * El ámbito más interno, que se busca primero, contiene los nombres locales\n",
    "    * Los ámbitos de las funciones adjuntas, que se buscan a partir del ámbito de inclusión más cercano, contienen nombres no locales, pero también no globales\n",
    "    * El ámbito siguiente al último contiene los nombres globales del módulo actual\n",
    "    * El ámbito más externo (buscado al final) es el espacio de nombres que contiene nombres incorporados"
   ]
  },
  {
   "cell_type": "markdown",
   "metadata": {
    "slideshow": {
     "slide_type": "slide"
    }
   },
   "source": [
    "# Python Object-Oriented\n",
    "\n",
    "    * Python ha sido un lenguaje orientado a objetos desde que existe\n",
    "    * Debido a esto, crear y usar clases y objetos es fácil\n"
   ]
  },
  {
   "cell_type": "markdown",
   "metadata": {
    "slideshow": {
     "slide_type": "subslide"
    }
   },
   "source": [
    "## Descripción general de la terminología POO\n",
    "\n",
    "* ** CLASE **\n",
    "      Prototipo definido por el usuario para un objeto que define un conjunto de atributos que caracterizan cualquier objeto de la clase.\n",
    "    \n",
    "* ** VARIABLE DE CLASE **\n",
    "      Una variable que es compartida por todas las instancias de una clase.\n",
    "    \n",
    "* ** DATA MEMBER **\n",
    "      Una variable de clase o una variable de instancia que contiene datos asociados con una clase y sus objetos.\n",
    "    \n",
    "* ** Sobrecarga de funciones **\n",
    "      La asignación de más de un comportamiento a una función particular."
   ]
  },
  {
   "cell_type": "markdown",
   "metadata": {
    "slideshow": {
     "slide_type": "subslide"
    }
   },
   "source": [
    "## Descripción general de la terminología OOP\n",
    "* **Instancia variable**\n",
    "        Una variable que se define dentro de un método y pertenece sólo a la instancia actual de una clase.\n",
    "* **Herencia**\n",
    "        La transferencia de las características de una clase a otras clases que se derivan de ella."
   ]
  },
  {
   "cell_type": "markdown",
   "metadata": {
    "slideshow": {
     "slide_type": "slide"
    }
   },
   "source": [
    "# Clases en Python\n",
    "\n",
    "\n",
    "Sintaxis:\n",
    "\n",
    "\n",
    "```fsharp\n",
    "class ClassName:\n",
    "    <statement-1>\n",
    "    .\n",
    "    .                **class_suite**\n",
    "    .\n",
    "    <statement-N>\n",
    "```"
   ]
  },
  {
   "cell_type": "markdown",
   "metadata": {
    "slideshow": {
     "slide_type": "subslide"
    }
   },
   "source": [
    "## ESTRUCTURA\n",
    "\n",
    "* **class** tiene un documentation string, que puede ser accesado via **ClassName.\\_\\_doc\\_\\_**.\n",
    "    \n",
    "\n",
    "* **class_suite** consiste de todas las definiciones de componente definiendo a clases miembros, atributos de datos y funciones."
   ]
  },
  {
   "cell_type": "markdown",
   "metadata": {
    "slideshow": {
     "slide_type": "fragment"
    }
   },
   "source": [
    "## Los objetos de clase tienen dos tipos de operaciones:\n",
    "### * Referencias de Atributos\n",
    "### * Instancias."
   ]
  },
  {
   "cell_type": "markdown",
   "metadata": {
    "slideshow": {
     "slide_type": "subslide"
    }
   },
   "source": [
    "## Más Atributos (Incorporados)\n",
    "\n",
    "* **\\_\\_dict\\_\\_**: Dictionary containing the class's namespace.\n",
    "    \n",
    "\n",
    "* **\\_\\_doc\\_\\_**: Class documentation string or none, if undefined.\n",
    "    \n",
    "\n",
    "* **\\_\\_name\\_\\_**: Class name.\n",
    "    \n",
    "\n",
    "* **\\_\\_module\\_\\_**: Module name in which the class is defined. This attribute is \"__main__\" in interactive mode.\n",
    "    \n",
    "\n",
    "* **\\_\\_bases\\_\\_**: A possibly empty tuple containing the base classes, in the order of their occurrence in the base class list.\n",
    "\n"
   ]
  },
  {
   "cell_type": "code",
   "execution_count": 1,
   "metadata": {
    "collapsed": false,
    "slideshow": {
     "slide_type": "subslide"
    }
   },
   "outputs": [],
   "source": [
    "class MyClass:\n",
    "    \"\"\"A simple example class\"\"\"\n",
    "    # Classes Shared by all the objects\n",
    "    i = 12345\n",
    "    j = 0\n",
    "    size = 0\n",
    "    \n",
    "    def __init__(self):\n",
    "        self.data = []\n",
    "\n",
    "    def mine(self):\n",
    "        print 'hello world'\n",
    "    \n",
    "    def add(self,x):\n",
    "        self.data.append(x)\n",
    "        self.size+=1\n",
    "        \n",
    "    def next(self):\n",
    "        self.j+=1\n",
    "        return self.data[self.j-1]"
   ]
  },
  {
   "cell_type": "code",
   "execution_count": 2,
   "metadata": {
    "collapsed": false,
    "slideshow": {
     "slide_type": "subslide"
    }
   },
   "outputs": [
    {
     "name": "stdout",
     "output_type": "stream",
     "text": [
      "MyClass.__doc__: A simple example class\n",
      "MyClass.__name__: MyClass\n",
      "MyClass.__module__: __main__\n",
      "MyClass.__bases__: ()\n",
      "MyClass.__dict__: {'__module__': '__main__', 'i': 12345, 'j': 0, 'mine': <function mine at 0x7efbec621140>, 'next': <function next at 0x7efbec621230>, 'add': <function add at 0x7efbec6211b8>, '__doc__': 'A simple example class', '__init__': <function __init__ at 0x7efbec6210c8>, 'size': 0}\n"
     ]
    }
   ],
   "source": [
    "print \"MyClass.__doc__:\", MyClass.__doc__\n",
    "print \"MyClass.__name__:\", MyClass.__name__\n",
    "print \"MyClass.__module__:\", MyClass.__module__\n",
    "print \"MyClass.__bases__:\", MyClass.__bases__\n",
    "print \"MyClass.__dict__:\", MyClass.__dict__"
   ]
  },
  {
   "cell_type": "code",
   "execution_count": 3,
   "metadata": {
    "collapsed": false,
    "slideshow": {
     "slide_type": "subslide"
    }
   },
   "outputs": [
    {
     "data": {
      "text/plain": [
       "12345"
      ]
     },
     "execution_count": 3,
     "metadata": {},
     "output_type": "execute_result"
    }
   ],
   "source": [
    "MyClass.i"
   ]
  },
  {
   "cell_type": "code",
   "execution_count": 4,
   "metadata": {
    "collapsed": false,
    "slideshow": {
     "slide_type": "fragment"
    }
   },
   "outputs": [
    {
     "data": {
      "text/plain": [
       "<unbound method MyClass.mine>"
      ]
     },
     "execution_count": 4,
     "metadata": {},
     "output_type": "execute_result"
    }
   ],
   "source": [
    "MyClass.mine"
   ]
  },
  {
   "cell_type": "code",
   "execution_count": 5,
   "metadata": {
    "collapsed": false,
    "slideshow": {
     "slide_type": "fragment"
    }
   },
   "outputs": [],
   "source": [
    "a = MyClass()\n",
    "b = MyClass()"
   ]
  },
  {
   "cell_type": "code",
   "execution_count": 6,
   "metadata": {
    "collapsed": false,
    "slideshow": {
     "slide_type": "fragment"
    }
   },
   "outputs": [
    {
     "name": "stdout",
     "output_type": "stream",
     "text": [
      "12345\n",
      "12345\n"
     ]
    }
   ],
   "source": [
    "print a.i\n",
    "print b.i"
   ]
  },
  {
   "cell_type": "markdown",
   "metadata": {
    "slideshow": {
     "slide_type": "subslide"
    }
   },
   "source": [
    "\n",
    "## Instanciación de clases\n",
    "\n",
    "* Aquí vamos a ver el problema de alcance\n",
    "\n"
   ]
  },
  {
   "cell_type": "code",
   "execution_count": 7,
   "metadata": {
    "collapsed": true,
    "slideshow": {
     "slide_type": "fragment"
    }
   },
   "outputs": [],
   "source": [
    "x=MyClass()"
   ]
  },
  {
   "cell_type": "code",
   "execution_count": 8,
   "metadata": {
    "collapsed": false,
    "slideshow": {
     "slide_type": "subslide"
    }
   },
   "outputs": [
    {
     "name": "stdout",
     "output_type": "stream",
     "text": [
      "0\n",
      "1\n",
      "2\n",
      "3\n",
      "4\n",
      "5\n",
      "6\n",
      "7\n",
      "8\n",
      "9\n"
     ]
    }
   ],
   "source": [
    "for h in range(10):\n",
    "    x.add(h)\n",
    "\n",
    "for k in range(10):\n",
    "    print x.next()"
   ]
  },
  {
   "cell_type": "code",
   "execution_count": 9,
   "metadata": {
    "collapsed": false,
    "slideshow": {
     "slide_type": "subslide"
    }
   },
   "outputs": [
    {
     "name": "stdout",
     "output_type": "stream",
     "text": [
      "[0, 1, 2, 3, 4, 5, 6, 7, 8, 9]\n",
      "10\n"
     ]
    }
   ],
   "source": [
    "print x.data\n",
    "print x.j"
   ]
  },
  {
   "cell_type": "code",
   "execution_count": 10,
   "metadata": {
    "collapsed": false,
    "slideshow": {
     "slide_type": "fragment"
    }
   },
   "outputs": [
    {
     "name": "stdout",
     "output_type": "stream",
     "text": [
      "2\n",
      "4\n",
      "8\n",
      "16\n"
     ]
    }
   ],
   "source": [
    "x.j = 1\n",
    "while x.j < 10:\n",
    "    x.j*=2\n",
    "    print x.j\n",
    "del x.j"
   ]
  },
  {
   "cell_type": "code",
   "execution_count": 11,
   "metadata": {
    "collapsed": false,
    "slideshow": {
     "slide_type": "fragment"
    }
   },
   "outputs": [
    {
     "name": "stdout",
     "output_type": "stream",
     "text": [
      "0\n"
     ]
    }
   ],
   "source": [
    "print x.j\n"
   ]
  },
  {
   "cell_type": "markdown",
   "metadata": {
    "slideshow": {
     "slide_type": "subslide"
    }
   },
   "source": [
    "## Objetos de método\n",
    "\n",
    "     * Por lo general, un método se llama justo después de que se une.\n",
    "\n",
    "     * Es posible hacer lo siguiente:"
   ]
  },
  {
   "cell_type": "code",
   "execution_count": 12,
   "metadata": {
    "collapsed": false,
    "slideshow": {
     "slide_type": "fragment"
    }
   },
   "outputs": [
    {
     "name": "stdout",
     "output_type": "stream",
     "text": [
      "0\n",
      "1\n",
      "2\n",
      "3\n",
      "4\n"
     ]
    },
    {
     "data": {
      "text/plain": [
       "5"
      ]
     },
     "execution_count": 12,
     "metadata": {},
     "output_type": "execute_result"
    }
   ],
   "source": [
    "x.j = 0\n",
    "xf = x.next\n",
    "i=0\n",
    "while i<5:\n",
    "    print xf()\n",
    "    i+=1\n",
    "x.j"
   ]
  },
  {
   "cell_type": "markdown",
   "metadata": {
    "slideshow": {
     "slide_type": "slide"
    }
   },
   "source": [
    "# Herencia\n",
    "\n",
    "```fsharp\n",
    "class DerivedClassName(BaseClassName):\n",
    "    <statement-1>\n",
    "    .\n",
    "    .\n",
    "    .\n",
    "    <statement-N>\n",
    "```"
   ]
  },
  {
   "cell_type": "markdown",
   "metadata": {
    "slideshow": {
     "slide_type": "fragment"
    }
   },
   "source": [
    "## Nota\n",
    "\n",
    "    * El nombre BaseClassName debe ser definido en un ámbito conteniendo la definición de clase derivada. \n",
    "    * En lugar de un nombre de clase base, otras expresiones arbitrarias también son permitidas. \n",
    "    \n",
    "    \n",
    "        + Cuando la clase es definida en otro módulo."
   ]
  },
  {
   "cell_type": "code",
   "execution_count": 13,
   "metadata": {
    "collapsed": true,
    "slideshow": {
     "slide_type": "subslide"
    }
   },
   "outputs": [],
   "source": [
    "class Child(MyClass): # define child class\n",
    "   def __init__(self):\n",
    "      MyClass.__init__(self)\n",
    "      print \"Calling child constructor\"\n",
    "\n",
    "   def childMethod(self):\n",
    "      print 'Calling child method'"
   ]
  },
  {
   "cell_type": "code",
   "execution_count": 14,
   "metadata": {
    "collapsed": false,
    "slideshow": {
     "slide_type": "subslide"
    }
   },
   "outputs": [
    {
     "name": "stdout",
     "output_type": "stream",
     "text": [
      "Calling child constructor\n",
      "Calling child method\n",
      "hello world\n",
      "200\n"
     ]
    }
   ],
   "source": [
    "c = Child()          # instance of child\n",
    "c.childMethod()      # child calls its method\n",
    "c.mine()             # calls parent's method\n",
    "c.add(200)           # again call parent's method\n",
    "print c.next()       # again call parent's method"
   ]
  },
  {
   "cell_type": "markdown",
   "metadata": {
    "slideshow": {
     "slide_type": "slide"
    }
   },
   "source": [
    "## Overloading Methods\n",
    "\n",
    "    * Es posible sobrecargar métodos!\n",
    "    * Por ejemplo:"
   ]
  },
  {
   "cell_type": "code",
   "execution_count": 16,
   "metadata": {
    "collapsed": false,
    "slideshow": {
     "slide_type": "fragment"
    }
   },
   "outputs": [],
   "source": [
    "class AnotherChild(MyClass): # define child class\n",
    "    def __init__(self):\n",
    "        MyClass.__init__(self)\n",
    "        print \"Calling child constructor\"\n",
    "\n",
    "    def add(self,x):\n",
    "        self.data.append(x)\n",
    "        self.data.append(x)\n",
    "        self.data.append(x)\n",
    "        \n",
    "    def next():\n",
    "        for k in range(3):\n",
    "            self.j+=1\n",
    "            print self.data[self.j-1]"
   ]
  },
  {
   "cell_type": "code",
   "execution_count": 17,
   "metadata": {
    "collapsed": false,
    "slideshow": {
     "slide_type": "subslide"
    }
   },
   "outputs": [
    {
     "name": "stdout",
     "output_type": "stream",
     "text": [
      "Calling child constructor\n",
      "[100, 100, 100]\n"
     ]
    }
   ],
   "source": [
    "x = AnotherChild()\n",
    "x.add(100)\n",
    "print x.data\n",
    "\n"
   ]
  },
  {
   "cell_type": "markdown",
   "metadata": {
    "slideshow": {
     "slide_type": "slide"
    }
   },
   "source": [
    "## Herencia Múltiple\n",
    "\n",
    "    * Python tiene una forma limitada de herencia múltiple."
   ]
  },
  {
   "cell_type": "code",
   "execution_count": 18,
   "metadata": {
    "collapsed": true,
    "slideshow": {
     "slide_type": "fragment"
    }
   },
   "outputs": [],
   "source": [
    "class point1:\n",
    "    def __init__(self):\n",
    "        self.x = 1.0\n",
    "    def add(self):\n",
    "        self.x-=1.0\n",
    "\n",
    "class point2:\n",
    "    def __init__(self):\n",
    "        self.y = 2.0\n",
    "    def sub(self):\n",
    "        self.y+=1.0"
   ]
  },
  {
   "cell_type": "code",
   "execution_count": 19,
   "metadata": {
    "collapsed": false,
    "slideshow": {
     "slide_type": "subslide"
    }
   },
   "outputs": [],
   "source": [
    "class point3(point1,point2):\n",
    "    def __init__(self):\n",
    "        point1.__init__(self)\n",
    "        point2.__init__(self)\n",
    "        self.z = 1\n",
    "    def sprint(self):\n",
    "        print self.x\n",
    "        print self.y"
   ]
  },
  {
   "cell_type": "code",
   "execution_count": 20,
   "metadata": {
    "collapsed": true,
    "slideshow": {
     "slide_type": "subslide"
    }
   },
   "outputs": [],
   "source": [
    "d = point3()"
   ]
  },
  {
   "cell_type": "code",
   "execution_count": 21,
   "metadata": {
    "collapsed": false,
    "slideshow": {
     "slide_type": "fragment"
    }
   },
   "outputs": [
    {
     "name": "stdout",
     "output_type": "stream",
     "text": [
      "0.0\n",
      "3.0\n"
     ]
    }
   ],
   "source": [
    "d.add()\n",
    "d.sub()\n",
    "d.sprint()"
   ]
  }
 ],
 "metadata": {
  "celltoolbar": "Slideshow",
  "kernelspec": {
   "display_name": "Python [conda env:py27]",
   "language": "python",
   "name": "conda-env-py27-py"
  },
  "language_info": {
   "codemirror_mode": {
    "name": "ipython",
    "version": 2
   },
   "file_extension": ".py",
   "mimetype": "text/x-python",
   "name": "python",
   "nbconvert_exporter": "python",
   "pygments_lexer": "ipython2",
   "version": "2.7.12"
  }
 },
 "nbformat": 4,
 "nbformat_minor": 1
}
