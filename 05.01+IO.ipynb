{
 "cells": [
  {
   "cell_type": "markdown",
   "metadata": {
    "slideshow": {
     "slide_type": "slide"
    }
   },
   "source": [
    "# Input / Output Operations\n",
    "--------\n",
    "### Opening, Reading and Writing Files"
   ]
  },
  {
   "cell_type": "markdown",
   "metadata": {
    "collapsed": true,
    "slideshow": {
     "slide_type": "subslide"
    }
   },
   "source": [
    "## Opening Files\n",
    "### First, we have to open a file in Python, so we use the function open(). This function requires two arguments:\n",
    "\n",
    "#### name of the file (a string)\n",
    "#### the mode of working with the file (as a string)\n",
    "\n",
    "This returns a File object. So we can call methods specific to the File class. \n",
    "Also, we can assign this object to a variable, like this:"
   ]
  },
  {
   "cell_type": "code",
   "execution_count": 1,
   "metadata": {
    "collapsed": false,
    "slideshow": {
     "slide_type": "fragment"
    }
   },
   "outputs": [],
   "source": [
    "a = open(\"myfile.txt\", \"r\")"
   ]
  },
  {
   "cell_type": "markdown",
   "metadata": {
    "collapsed": true,
    "slideshow": {
     "slide_type": "slide"
    }
   },
   "source": [
    "## Reading Files\n",
    "### File objects have a read() method that returns a string representation of the text in a file. \n",
    "\n",
    "#### the read() method returns a value instead of modifying the object that calls the method. "
   ]
  },
  {
   "cell_type": "code",
   "execution_count": 2,
   "metadata": {
    "collapsed": false,
    "slideshow": {
     "slide_type": "fragment"
    }
   },
   "outputs": [
    {
     "name": "stdout",
     "output_type": "stream",
     "text": [
      "1\n",
      "4\n",
      "9\n",
      "16\n",
      "25\n",
      "36\n",
      "49\n",
      "64\n",
      "81\n",
      "100\n",
      "\n"
     ]
    }
   ],
   "source": [
    "b = a.read()\n",
    "print b"
   ]
  },
  {
   "cell_type": "markdown",
   "metadata": {
    "collapsed": false,
    "slideshow": {
     "slide_type": "subslide"
    }
   },
   "source": [
    "## Splitting the File\n",
    "### To make our string object data more useful, we can convert it into a list. \n",
    "\n",
    "#### In Python, we can use the split() method to turn a string object into a list of strings.\n",
    "\n",
    "The split() method takes a string input corresponding to the delimiter, or separator. This delimiter determines how the string is split into elements in a list. In some cases, the delimiter is \\n. Many other files use commas to separate elements.\n"
   ]
  },
  {
   "cell_type": "code",
   "execution_count": 3,
   "metadata": {
    "collapsed": false,
    "slideshow": {
     "slide_type": "fragment"
    }
   },
   "outputs": [
    {
     "name": "stdout",
     "output_type": "stream",
     "text": [
      "['1', '4', '9', '16', '25', '36', '49', '64', '81', '100', '']\n"
     ]
    }
   ],
   "source": [
    "data = b.split('\\n')\n",
    "print data"
   ]
  },
  {
   "cell_type": "markdown",
   "metadata": {
    "collapsed": false,
    "slideshow": {
     "slide_type": "subslide"
    }
   },
   "source": [
    "### It's important that we close our files"
   ]
  },
  {
   "cell_type": "code",
   "execution_count": 4,
   "metadata": {
    "collapsed": false,
    "slideshow": {
     "slide_type": "fragment"
    }
   },
   "outputs": [],
   "source": [
    "a.close()"
   ]
  },
  {
   "cell_type": "markdown",
   "metadata": {
    "slideshow": {
     "slide_type": "subslide"
    }
   },
   "source": [
    "## Writing Files\n",
    "#### Now, let put things in the file, to do this, we have to open it again, but with the w attribute"
   ]
  },
  {
   "cell_type": "code",
   "execution_count": 5,
   "metadata": {
    "collapsed": true,
    "slideshow": {
     "slide_type": "fragment"
    }
   },
   "outputs": [],
   "source": [
    "a1 = open(\"myfile.txt\", \"w\")"
   ]
  },
  {
   "cell_type": "markdown",
   "metadata": {
    "slideshow": {
     "slide_type": "subslide"
    }
   },
   "source": [
    "#### Once the file is open to write, we can use the write() function"
   ]
  },
  {
   "cell_type": "code",
   "execution_count": 6,
   "metadata": {
    "collapsed": false,
    "slideshow": {
     "slide_type": "fragment"
    }
   },
   "outputs": [],
   "source": [
    "my_list = [i**2 for i in range(1,11)]\n",
    "for item in my_list:\n",
    "    a1.write(str(item) + \"\\n\")\n",
    "a1.close()"
   ]
  },
  {
   "cell_type": "markdown",
   "metadata": {
    "collapsed": false,
    "slideshow": {
     "slide_type": "subslide"
    }
   },
   "source": [
    "## Other Ways\n",
    "#### There are other ways to both open the file and reading the lines.\n",
    "First, let's see the other way with which you can open a file and you don't need to close it:"
   ]
  },
  {
   "cell_type": "code",
   "execution_count": 7,
   "metadata": {
    "collapsed": false,
    "slideshow": {
     "slide_type": "subslide"
    }
   },
   "outputs": [
    {
     "name": "stdout",
     "output_type": "stream",
     "text": [
      "<open file 'myfile.txt', mode 'r' at 0x7f3cb73149c0>\n"
     ]
    }
   ],
   "source": [
    "with open(\"myfile.txt\") as a2:\n",
    "    print a2"
   ]
  },
  {
   "cell_type": "markdown",
   "metadata": {
    "collapsed": false,
    "slideshow": {
     "slide_type": "subslide"
    }
   },
   "source": [
    "#### We have to be there, so we can print the lines of the file:"
   ]
  },
  {
   "cell_type": "code",
   "execution_count": 8,
   "metadata": {
    "collapsed": false,
    "slideshow": {
     "slide_type": "subslide"
    }
   },
   "outputs": [
    {
     "name": "stdout",
     "output_type": "stream",
     "text": [
      "1\n",
      "\n",
      "4\n",
      "\n"
     ]
    }
   ],
   "source": [
    "with open(\"myfile.txt\") as a2:\n",
    "    print a2.readline()\n",
    "    print a2.readline()"
   ]
  },
  {
   "cell_type": "markdown",
   "metadata": {
    "collapsed": true,
    "slideshow": {
     "slide_type": "slide"
    }
   },
   "source": [
    "# Reading files with the csv module\n",
    "### You can also use the csv module to read comma separated values (csv files).\n",
    "#### First, you have to import the module like this:"
   ]
  },
  {
   "cell_type": "code",
   "execution_count": 9,
   "metadata": {
    "collapsed": false,
    "slideshow": {
     "slide_type": "fragment"
    }
   },
   "outputs": [],
   "source": [
    "import csv"
   ]
  },
  {
   "cell_type": "markdown",
   "metadata": {
    "collapsed": false,
    "slideshow": {
     "slide_type": "subslide"
    }
   },
   "source": [
    "### As seen before, first thing you'll do is to open your file and asign that object to a variable"
   ]
  },
  {
   "cell_type": "code",
   "execution_count": 10,
   "metadata": {
    "collapsed": false,
    "slideshow": {
     "slide_type": "fragment"
    }
   },
   "outputs": [],
   "source": [
    "f = open(\"mydata.csv\")"
   ]
  },
  {
   "cell_type": "markdown",
   "metadata": {
    "collapsed": true,
    "slideshow": {
     "slide_type": "subslide"
    }
   },
   "source": [
    "### You'll call the reader method of csv and pass that object as a parameter"
   ]
  },
  {
   "cell_type": "code",
   "execution_count": 11,
   "metadata": {
    "collapsed": false,
    "slideshow": {
     "slide_type": "fragment"
    }
   },
   "outputs": [],
   "source": [
    "mycsv = csv.reader(f)"
   ]
  },
  {
   "cell_type": "markdown",
   "metadata": {
    "collapsed": false,
    "slideshow": {
     "slide_type": "fragment"
    }
   },
   "source": [
    "#### You can also obtain a list, but this time you'll do this:"
   ]
  },
  {
   "cell_type": "code",
   "execution_count": 12,
   "metadata": {
    "collapsed": false,
    "slideshow": {
     "slide_type": "fragment"
    }
   },
   "outputs": [],
   "source": [
    "mydata = list(mycsv)"
   ]
  },
  {
   "cell_type": "markdown",
   "metadata": {
    "collapsed": true,
    "slideshow": {
     "slide_type": "slide"
    }
   },
   "source": [
    "# Reading Files with the json module\n",
    "### With csv files, you worked with lists, but with json files you'll work with dictionaries. So, let's import this module."
   ]
  },
  {
   "cell_type": "code",
   "execution_count": 13,
   "metadata": {
    "collapsed": true,
    "slideshow": {
     "slide_type": "fragment"
    }
   },
   "outputs": [],
   "source": [
    "import json"
   ]
  },
  {
   "cell_type": "markdown",
   "metadata": {
    "collapsed": false,
    "slideshow": {
     "slide_type": "subslide"
    }
   },
   "source": [
    "#### This time, let's create first our dictionary and then convert it to a string"
   ]
  },
  {
   "cell_type": "code",
   "execution_count": 14,
   "metadata": {
    "collapsed": false,
    "slideshow": {
     "slide_type": "fragment"
    }
   },
   "outputs": [
    {
     "name": "stdout",
     "output_type": "stream",
     "text": [
      "('JSON:', '{\"Fruteria\": [{\"Fruta\": [{\"Nombre\": \"Manzana\", \"Cantidad\": 10}, {\"Nombre\": \"Pera\", \"Cantidad\": 20}, {\"Nombre\": \"Naranja\", \"Cantidad\": 30}]}, {\"Verdura\": [{\"Nombre\": \"Lechuga\", \"Cantidad\": 80}, {\"Nombre\": \"Tomate\", \"Cantidad\": 15}, {\"Nombre\": \"Pepino\", \"Cantidad\": 50}]}]}')\n"
     ]
    }
   ],
   "source": [
    "data = {\"Fruteria\": [  {\"Fruta\":   [    {\"Nombre\":\"Manzana\",\"Cantidad\":10},    {\"Nombre\":\"Pera\",\"Cantidad\":20},    {\"Nombre\":\"Naranja\",\"Cantidad\":30}   ]  },  {\"Verdura\":   [    {\"Nombre\":\"Lechuga\",\"Cantidad\":80},    {\"Nombre\":\"Tomate\",\"Cantidad\":15},    {\"Nombre\":\"Pepino\",\"Cantidad\":50}   ]  } ]}\n",
    "data_string = json.dumps(data)\n",
    "print('JSON:', data_string)"
   ]
  },
  {
   "cell_type": "markdown",
   "metadata": {
    "collapsed": false,
    "slideshow": {
     "slide_type": "subslide"
    }
   },
   "source": [
    "#### So, when we have a string with the data, we can load it to a dictionary"
   ]
  },
  {
   "cell_type": "code",
   "execution_count": 15,
   "metadata": {
    "collapsed": false,
    "slideshow": {
     "slide_type": "fragment"
    }
   },
   "outputs": [
    {
     "name": "stdout",
     "output_type": "stream",
     "text": [
      "Tenemos 80 Lechugas.\n"
     ]
    }
   ],
   "source": [
    "kvdata = json.loads(data_string)\n",
    "print(\"Tenemos \"+str(kvdata[\"Fruteria\"][1][\"Verdura\"][0][\"Cantidad\"])+\" Lechugas.\")"
   ]
  },
  {
   "cell_type": "markdown",
   "metadata": {
    "slideshow": {
     "slide_type": "subslide"
    }
   },
   "source": [
    "#### We can have a better printing of our dictionary with these parameters:"
   ]
  },
  {
   "cell_type": "code",
   "execution_count": 16,
   "metadata": {
    "collapsed": false,
    "slideshow": {
     "slide_type": "fragment"
    }
   },
   "outputs": [
    {
     "name": "stdout",
     "output_type": "stream",
     "text": [
      "{\n",
      "  \"Fruteria\": [\n",
      "    {\n",
      "      \"Fruta\": [\n",
      "        {\n",
      "          \"Cantidad\": 10, \n",
      "          \"Nombre\": \"Manzana\"\n",
      "        }, \n",
      "        {\n",
      "          \"Cantidad\": 20, \n",
      "          \"Nombre\": \"Pera\"\n",
      "        }, \n",
      "        {\n",
      "          \"Cantidad\": 30, \n",
      "          \"Nombre\": \"Naranja\"\n",
      "        }\n",
      "      ]\n",
      "    }, \n",
      "    {\n",
      "      \"Verdura\": [\n",
      "        {\n",
      "          \"Cantidad\": 80, \n",
      "          \"Nombre\": \"Lechuga\"\n",
      "        }, \n",
      "        {\n",
      "          \"Cantidad\": 15, \n",
      "          \"Nombre\": \"Tomate\"\n",
      "        }, \n",
      "        {\n",
      "          \"Cantidad\": 50, \n",
      "          \"Nombre\": \"Pepino\"\n",
      "        }\n",
      "      ]\n",
      "    }\n",
      "  ]\n",
      "}\n"
     ]
    }
   ],
   "source": [
    "print json.dumps(data, sort_keys=True, indent=2)"
   ]
  },
  {
   "cell_type": "markdown",
   "metadata": {
    "collapsed": false,
    "slideshow": {
     "slide_type": "subslide"
    }
   },
   "source": [
    "#### The RFC does not permit the representation of infinite or NaN number values.  Despite that, by default, this module accepts and outputs Infinity, -Infinity, and NaN as if they were valid JSON number literal values:"
   ]
  },
  {
   "cell_type": "code",
   "execution_count": 17,
   "metadata": {
    "collapsed": false,
    "slideshow": {
     "slide_type": "fragment"
    }
   },
   "outputs": [
    {
     "data": {
      "text/plain": [
       "'-Infinity'"
      ]
     },
     "execution_count": 17,
     "metadata": {},
     "output_type": "execute_result"
    }
   ],
   "source": [
    "json.dumps(float('-inf'))"
   ]
  },
  {
   "cell_type": "code",
   "execution_count": 18,
   "metadata": {
    "collapsed": false,
    "slideshow": {
     "slide_type": "fragment"
    }
   },
   "outputs": [
    {
     "data": {
      "text/plain": [
       "'NaN'"
      ]
     },
     "execution_count": 18,
     "metadata": {},
     "output_type": "execute_result"
    }
   ],
   "source": [
    "json.dumps(float('nan'))"
   ]
  },
  {
   "cell_type": "code",
   "execution_count": 19,
   "metadata": {
    "collapsed": false,
    "slideshow": {
     "slide_type": "fragment"
    }
   },
   "outputs": [
    {
     "data": {
      "text/plain": [
       "-inf"
      ]
     },
     "execution_count": 19,
     "metadata": {},
     "output_type": "execute_result"
    }
   ],
   "source": [
    "json.loads('-Infinity')"
   ]
  },
  {
   "cell_type": "code",
   "execution_count": 20,
   "metadata": {
    "collapsed": false,
    "slideshow": {
     "slide_type": "fragment"
    }
   },
   "outputs": [
    {
     "data": {
      "text/plain": [
       "nan"
      ]
     },
     "execution_count": 20,
     "metadata": {},
     "output_type": "execute_result"
    }
   ],
   "source": [
    "json.loads('NaN')"
   ]
  },
  {
   "cell_type": "markdown",
   "metadata": {
    "collapsed": true,
    "slideshow": {
     "slide_type": "subslide"
    }
   },
   "source": [
    "#### The RFC specifies that the names within a JSON object should be unique, but does not mandate how repeated names in JSON objects should be handled. \n",
    "#### By default, this module does not raise an exception; instead, it ignores all but the last name-value pair for a given name:"
   ]
  },
  {
   "cell_type": "code",
   "execution_count": 21,
   "metadata": {
    "collapsed": false,
    "slideshow": {
     "slide_type": "fragment"
    }
   },
   "outputs": [
    {
     "data": {
      "text/plain": [
       "{u'x': 3}"
      ]
     },
     "execution_count": 21,
     "metadata": {},
     "output_type": "execute_result"
    }
   ],
   "source": [
    "weird_json = '{\"x\":1,\"x\":2,\"x\":3}'\n",
    "json.loads(weird_json)"
   ]
  }
 ],
 "metadata": {
  "anaconda-cloud": {},
  "celltoolbar": "Slideshow",
  "kernelspec": {
   "display_name": "Python [conda env:py27]",
   "language": "python",
   "name": "conda-env-py27-py"
  },
  "language_info": {
   "codemirror_mode": {
    "name": "ipython",
    "version": 2
   },
   "file_extension": ".py",
   "mimetype": "text/x-python",
   "name": "python",
   "nbconvert_exporter": "python",
   "pygments_lexer": "ipython2",
   "version": "2.7.12"
  }
 },
 "nbformat": 4,
 "nbformat_minor": 1
}
