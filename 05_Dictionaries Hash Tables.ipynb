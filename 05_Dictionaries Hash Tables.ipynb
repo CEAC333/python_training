{
 "cells": [
  {
   "cell_type": "code",
   "execution_count": 47,
   "metadata": {
    "collapsed": true
   },
   "outputs": [],
   "source": [
    "List1 = [[] for x in range(10)]"
   ]
  },
  {
   "cell_type": "code",
   "execution_count": 41,
   "metadata": {
    "collapsed": false
   },
   "outputs": [
    {
     "name": "stdout",
     "output_type": "stream",
     "text": [
      "[[], [], [], [], [], [], [], [], [], []]\n"
     ]
    }
   ],
   "source": [
    "print List1"
   ]
  },
  {
   "cell_type": "code",
   "execution_count": 48,
   "metadata": {
    "collapsed": false
   },
   "outputs": [],
   "source": [
    "List1[0].append(1)"
   ]
  },
  {
   "cell_type": "code",
   "execution_count": 46,
   "metadata": {
    "collapsed": false
   },
   "outputs": [
    {
     "name": "stdout",
     "output_type": "stream",
     "text": [
      "[[1], [], [], [], [], [], [], [], [], []]\n"
     ]
    }
   ],
   "source": [
    "print List1"
   ]
  },
  {
   "cell_type": "code",
   "execution_count": 23,
   "metadata": {
    "collapsed": false
   },
   "outputs": [],
   "source": [
    "List2[1].append(2)"
   ]
  },
  {
   "cell_type": "code",
   "execution_count": 25,
   "metadata": {
    "collapsed": false
   },
   "outputs": [],
   "source": [
    "List2[0].append(5)"
   ]
  },
  {
   "cell_type": "code",
   "execution_count": 35,
   "metadata": {
    "collapsed": false
   },
   "outputs": [
    {
     "data": {
      "text/plain": [
       "0"
      ]
     },
     "execution_count": 35,
     "metadata": {},
     "output_type": "execute_result"
    }
   ],
   "source": [
    "len(List2[0])"
   ]
  },
  {
   "cell_type": "code",
   "execution_count": 38,
   "metadata": {
    "collapsed": false
   },
   "outputs": [],
   "source": [
    "List2[5].append(1)"
   ]
  },
  {
   "cell_type": "code",
   "execution_count": 39,
   "metadata": {
    "collapsed": false
   },
   "outputs": [
    {
     "data": {
      "text/plain": [
       "[[-10, 1],\n",
       " [-10, 1],\n",
       " [-10, 1],\n",
       " [-10, 1],\n",
       " [-10, 1],\n",
       " [-10, 1],\n",
       " [-10, 1],\n",
       " [-10, 1],\n",
       " [-10, 1],\n",
       " [-10, 1]]"
      ]
     },
     "execution_count": 39,
     "metadata": {},
     "output_type": "execute_result"
    }
   ],
   "source": [
    "List2"
   ]
  },
  {
   "cell_type": "code",
   "execution_count": 56,
   "metadata": {
    "collapsed": false
   },
   "outputs": [
    {
     "name": "stdout",
     "output_type": "stream",
     "text": [
      "[[0, 0], [7, 7], [14, 14]]\n",
      "[[1, 1], [8, 8], [15, 15]]\n",
      "[[2, 2], [9, 9], [16, 16]]\n",
      "[[3, 3], [10, 10], [17, 17]]\n",
      "[[4, 4], [11, 11], [18, 18]]\n",
      "[[5, 5], [12, 12], [19, 19]]\n",
      "[[6, 6], [13, 13]]\n",
      "None\n",
      "None\n",
      "None\n",
      "None\n",
      "None\n",
      "None\n",
      "None\n"
     ]
    }
   ],
   "source": [
    "class HashTable:\n",
    "    \n",
    "    def __init__(self,m):\n",
    "        self.m = m\n",
    "        self.T = [[] for x in range(m)] \n",
    "    \n",
    "    def add(self,key,value):\n",
    "        b_index = self.hash_function(key)\n",
    "        self.T[b_index].append([key,value]) \n",
    "    \n",
    "    def get(self,key):\n",
    "        Rtable = self.T[self.hash_function(key)]\n",
    "        for i in Rtable:\n",
    "            if key== i[0]:\n",
    "                return i[1]\n",
    "        return None\n",
    "        \n",
    "    def hash_function(self,key):\n",
    "        return key%self.m\n",
    "    \n",
    "if __name__ == '__main__':\n",
    "    \n",
    "    m = 7\n",
    "    \n",
    "    Table = HashTable(m)\n",
    "    \n",
    "    for i in range(20):\n",
    "        Table.add(i,i)\n",
    "    \n",
    "    for j in range(m):\n",
    "        print Table.T[j]\n",
    "        \n",
    "    for h in range(20,27):\n",
    "        print Table.get(h)\n",
    "    "
   ]
  },
  {
   "cell_type": "code",
   "execution_count": null,
   "metadata": {
    "collapsed": true
   },
   "outputs": [],
   "source": []
  }
 ],
 "metadata": {
  "anaconda-cloud": {},
  "kernelspec": {
   "display_name": "Python [default]",
   "language": "python",
   "name": "python2"
  },
  "language_info": {
   "codemirror_mode": {
    "name": "ipython",
    "version": 2
   },
   "file_extension": ".py",
   "mimetype": "text/x-python",
   "name": "python",
   "nbconvert_exporter": "python",
   "pygments_lexer": "ipython2",
   "version": "2.7.12"
  }
 },
 "nbformat": 4,
 "nbformat_minor": 1
}
