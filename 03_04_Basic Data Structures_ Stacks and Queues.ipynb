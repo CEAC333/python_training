{
 "cells": [
  {
   "cell_type": "markdown",
   "metadata": {},
   "source": [
    "# Here are the classes Queue and Stack\n",
    "-----\n",
    "## They can be uses to implement more complex examples"
   ]
  },
  {
   "cell_type": "code",
   "execution_count": 1,
   "metadata": {
    "collapsed": false
   },
   "outputs": [],
   "source": [
    "class Queue:\n",
    "    \"\"\"\n",
    "    The Queue class implement\n",
    "    1.- Default Constructor\n",
    "    2.- isEmpty to verify if the queue is empty\n",
    "    3.- enqueue to add at the end \n",
    "    4.- dequeue to remove at the front\n",
    "    5.- getFront to know the element at the front\n",
    "    6.- getBack to know the element at the back\n",
    "    7.- size to know how many elements there are at \n",
    "         the queues\n",
    "    \"\"\"\n",
    "\n",
    "    # We use the list operations instead of a \n",
    "    # native implementation... for all operations.\n",
    "    ##############################################\n",
    "    # For a native implementation, we need to look\n",
    "    # at the arrays to obtain O(1) complexity in \n",
    "    # all the operations using a circular array\n",
    "    ##############################################\n",
    "    # I love CPython, it allows a lot!!!\n",
    "    \n",
    "    def __init__(self):\n",
    "        self.Q = []\n",
    "    \n",
    "    # Complexity O(1)\n",
    "    def isEmpty(self):\n",
    "        return len(self.Q)==0\n",
    "    \n",
    "    # Complexity O(1)\n",
    "    def enqueue(self,item):\n",
    "        self.Q.append(item)\n",
    "    \n",
    "    # Complexity O(n)\n",
    "    # We need the CPython array to implement \n",
    "    # Circular Array...\n",
    "    def dequeue(self):\n",
    "        if self.Q!=[]:\n",
    "            return self.Q.pop(0)\n",
    "        else:\n",
    "            return None\n",
    "        \n",
    "    # Complexity O(1)    \n",
    "    def size(self):\n",
    "        return len(self.Q)\n",
    "    \n",
    "    # Complexity O(1)\n",
    "    def getFront(self):\n",
    "        return self.Q[0]\n",
    "    \n",
    "    # Complexity O(1)\n",
    "    def getBack(self):\n",
    "        return self.Q[-1]\n",
    "    \n",
    "class Stack:\n",
    "    \"\"\"\n",
    "    Here we implement the stack class with operations\n",
    "    1.- Default constructor\n",
    "    2.- isEmpty to verify if the stack is empty\n",
    "    3.- pop to remove at the top\n",
    "    4.- push to add at the top\n",
    "    5.- peek to look at the element at the top\n",
    "    \"\"\"\n",
    "    # We use the list operations instead of a \n",
    "    # native implementation... for all operations\n",
    "    # The derived operations allows the O(1) desired \n",
    "    # complexity per operations!!!\n",
    "    \n",
    "    def __init__(self):\n",
    "        self.S = []\n",
    "    \n",
    "    # Complexity O(1)\n",
    "    def isEmpty(self):\n",
    "        return len(self.S)==0\n",
    "    \n",
    "    # Complexity O(1)\n",
    "    def pop(self):\n",
    "        return self.S.pop()\n",
    "    \n",
    "    # Complexity O(1)\n",
    "    def push(self, element):\n",
    "        return self.S.append(element)\n",
    "    \n",
    "    def peek(self):\n",
    "        return self.S[-1]\n",
    "        \n",
    "    # Complexity O(1)    \n",
    "    def size(self):\n",
    "        return len(self.S)\n"
   ]
  },
  {
   "cell_type": "code",
   "execution_count": 16,
   "metadata": {
    "collapsed": false
   },
   "outputs": [],
   "source": [
    "def Parent_Matching(String):\n",
    "    \n",
    "    S = Stack()\n",
    "    \n",
    "    for x in String:\n",
    "        if x=='(':\n",
    "            S.push('(')\n",
    "        elif x==')':\n",
    "            if S.isEmpty():\n",
    "                return False\n",
    "            else:\n",
    "                S.pop()\n",
    "    if S.isEmpty():\n",
    "        return True\n",
    "    else:\n",
    "        return False"
   ]
  },
  {
   "cell_type": "code",
   "execution_count": 17,
   "metadata": {
    "collapsed": false
   },
   "outputs": [
    {
     "name": "stdout",
     "output_type": "stream",
     "text": [
      "['(', '(', '5', '*', '4', ')', '+', '5', ')', ')']\n"
     ]
    }
   ],
   "source": [
    "str1 = '((5*4)+5))'\n",
    "L1   = list(str1) \n",
    "print L1"
   ]
  },
  {
   "cell_type": "code",
   "execution_count": 18,
   "metadata": {
    "collapsed": false
   },
   "outputs": [
    {
     "data": {
      "text/plain": [
       "False"
      ]
     },
     "execution_count": 18,
     "metadata": {},
     "output_type": "execute_result"
    }
   ],
   "source": [
    "Parent_Matching(L1)"
   ]
  },
  {
   "cell_type": "code",
   "execution_count": 2,
   "metadata": {
    "collapsed": false
   },
   "outputs": [
    {
     "name": "stdout",
     "output_type": "stream",
     "text": [
      " --------Testing the Queue Operations---------\n",
      "New Object T Queue \n",
      "Enqueue element = 0\n",
      "Enqueue element = 1\n",
      "Enqueue element = 2\n",
      "Enqueue element = 3\n",
      "Enqueue element = 4\n",
      "Enqueue element = 5\n",
      "Enqueue element = 6\n",
      "Enqueue element = 7\n",
      "Enqueue element = 8\n",
      "Enqueue element = 9\n",
      "The Size of Queue T = 10\n",
      "Element at the back of T = 9\n",
      "Element at the front of T = 0\n",
      "Dequeue Element 0\n",
      "Dequeue Element 1\n",
      "Dequeue Element 2\n",
      "Dequeue Element 3\n",
      "Dequeue Element 4\n",
      "The Size of Queue T = 5\n",
      "\n",
      " ---------Testing the Stack Operations----------\n",
      "New Object N Stack\n",
      "Push element = 0\n",
      "Push element = 1\n",
      "Push element = 2\n",
      "Push element = 3\n",
      "Push element = 4\n",
      "Push element = 5\n",
      "Push element = 6\n",
      "Push element = 7\n",
      "Push element = 8\n",
      "Push element = 9\n",
      "The Size of Queue N = 10\n",
      "Element at the top of N = 9\n",
      "Pop Element 9\n",
      "Pop Element 8\n",
      "Pop Element 7\n",
      "Pop Element 6\n",
      "Pop Element 5\n",
      "The Size of Queue T = 5\n"
     ]
    }
   ],
   "source": [
    "print \" --------Testing the Queue Operations---------\"\n",
    "\n",
    "print \"New Object T Queue \"\n",
    "\n",
    "T = Queue()\n",
    "\n",
    "Nelem = 10\n",
    "\n",
    "for i in range(Nelem):\n",
    "    print \"Enqueue element = \"+str(i)\n",
    "    T.enqueue(i)\n",
    "\n",
    "print \"The Size of Queue T = \" + str(T.size())\n",
    "\n",
    "print \"Element at the back of T = \" + str(T.getBack())\n",
    "print \"Element at the front of T = \" + str(T.getFront())\n",
    "\n",
    "qs = T.size()\n",
    "\n",
    "for i in range(qs-Nelem/2):\n",
    "    print \"Dequeue Element \" + str(T.dequeue())\n",
    "\n",
    "print \"The Size of Queue T = \" + str(T.size())\n",
    "\n",
    "\n",
    "print \"\\n ---------Testing the Stack Operations----------\"\n",
    "\n",
    "print \"New Object N Stack\"\n",
    "\n",
    "N = Stack()\n",
    "\n",
    "Nelem = 10\n",
    "\n",
    "for i in range(Nelem):\n",
    "    print \"Push element = \"+str(i)\n",
    "    N.push(i)\n",
    "\n",
    "print \"The Size of Queue N = \" + str(N.size())\n",
    "\n",
    "print \"Element at the top of N = \" + str(N.peek())\n",
    "\n",
    "qs = N.size()\n",
    "\n",
    "for i in range(qs-Nelem/2):\n",
    "    print \"Pop Element \" + str(N.pop())\n",
    "\n",
    "print \"The Size of Queue T = \" + str(N.size())\n"
   ]
  },
  {
   "cell_type": "markdown",
   "metadata": {},
   "source": [
    "## Here we can put some exercises using this basic structures as to take home\n",
    "-----\n",
    "* Simulating a Queue with a Stack in $O(1)$ Complexity\n",
    "    * Here we need an amortized strategy\n",
    "-----\n",
    "* Solving if the parenthesis match in an expression in $O(n)$ Complexity\n",
    "   * An stack is enough\n",
    "-----\n",
    "* Write a program that reads in a sequence of characters and prints them in reverse order in $O(n)$ Complexity\n",
    "   * Using a stack \n",
    "-----\n",
    "* Write a program that reads in a positive integer and prints the binary representation of that integer Complexity $O(n)$ \n",
    "   * Using a Queue and a Stack"
   ]
  },
  {
   "cell_type": "code",
   "execution_count": 58,
   "metadata": {
    "collapsed": false
   },
   "outputs": [],
   "source": [
    "Radix = []\n",
    "for i in range(10):\n",
    "    S1 = Queue()\n",
    "    Radix.append(S1)"
   ]
  },
  {
   "cell_type": "code",
   "execution_count": 4,
   "metadata": {
    "collapsed": false
   },
   "outputs": [
    {
     "name": "stdout",
     "output_type": "stream",
     "text": [
      "[<__main__.Queue instance at 0x10429f5f0>, <__main__.Queue instance at 0x10429f710>, <__main__.Queue instance at 0x10429f560>, <__main__.Queue instance at 0x10429f3b0>, <__main__.Queue instance at 0x10412a878>, <__main__.Queue instance at 0x10428e998>, <__main__.Queue instance at 0x10428e9e0>, <__main__.Queue instance at 0x10428e950>, <__main__.Queue instance at 0x10428eab8>, <__main__.Queue instance at 0x10428ea28>]\n"
     ]
    }
   ],
   "source": [
    "print Radix\n"
   ]
  },
  {
   "cell_type": "code",
   "execution_count": 57,
   "metadata": {
    "collapsed": true
   },
   "outputs": [],
   "source": [
    "NList = [1234,1056, 1012, 1900]"
   ]
  },
  {
   "cell_type": "code",
   "execution_count": 51,
   "metadata": {
    "collapsed": false
   },
   "outputs": [
    {
     "name": "stdout",
     "output_type": "stream",
     "text": [
      "[1234, 1056, 1012, 1900]\n"
     ]
    }
   ],
   "source": [
    "print NList"
   ]
  },
  {
   "cell_type": "code",
   "execution_count": 20,
   "metadata": {
    "collapsed": false
   },
   "outputs": [
    {
     "name": "stdout",
     "output_type": "stream",
     "text": [
      "4\n",
      "3\n",
      "2\n",
      "1\n"
     ]
    }
   ],
   "source": [
    "t=list(str(NList[0]))\n",
    "for i in range(3,-1,-1):\n",
    "    print t[i]\n"
   ]
  },
  {
   "cell_type": "code",
   "execution_count": 66,
   "metadata": {
    "collapsed": false
   },
   "outputs": [],
   "source": [
    "def Radix_Method(Radix, NList):\n",
    "    for i in range(3,-1,-1):\n",
    "        TemporaryList = []\n",
    "        for number in NList:\n",
    "            t=list(str(number))\n",
    "            #print number\n",
    "            digit = t[i]\n",
    "            print digit\n",
    "            Radix[int(digit)].enqueue(number)\n",
    "        for h in range(10):\n",
    "            #print not(Radix[int(h)].isEmpty())\n",
    "            while not(Radix[int(h)].isEmpty()):\n",
    "                TemporaryList.append(Radix[int(h)].dequeue())\n",
    "                   \n",
    "        #del NList\n",
    "        NList = TemporaryList\n",
    "        print NList \n",
    "         \n",
    "    return NList"
   ]
  },
  {
   "cell_type": "code",
   "execution_count": 69,
   "metadata": {
    "collapsed": false
   },
   "outputs": [
    {
     "name": "stdout",
     "output_type": "stream",
     "text": [
      "[1234, 1056, 1012, 1900]\n"
     ]
    }
   ],
   "source": [
    "print NList"
   ]
  },
  {
   "cell_type": "code",
   "execution_count": 67,
   "metadata": {
    "collapsed": false
   },
   "outputs": [
    {
     "name": "stdout",
     "output_type": "stream",
     "text": [
      "4\n",
      "6\n",
      "2\n",
      "0\n",
      "[1900, 1012, 1234, 1056]\n",
      "0\n",
      "1\n",
      "3\n",
      "5\n",
      "[1900, 1012, 1234, 1056]\n",
      "9\n",
      "0\n",
      "2\n",
      "0\n",
      "[1012, 1056, 1234, 1900]\n",
      "1\n",
      "1\n",
      "1\n",
      "1\n",
      "[1012, 1056, 1234, 1900]\n"
     ]
    }
   ],
   "source": [
    "T = Radix_Method(Radix, NList)"
   ]
  },
  {
   "cell_type": "code",
   "execution_count": 68,
   "metadata": {
    "collapsed": false
   },
   "outputs": [
    {
     "name": "stdout",
     "output_type": "stream",
     "text": [
      "[1012, 1056, 1234, 1900]\n"
     ]
    }
   ],
   "source": [
    "print T"
   ]
  },
  {
   "cell_type": "code",
   "execution_count": 63,
   "metadata": {
    "collapsed": false
   },
   "outputs": [
    {
     "name": "stdout",
     "output_type": "stream",
     "text": [
      "3\n",
      "2\n",
      "1\n",
      "0\n"
     ]
    }
   ],
   "source": [
    "for i in range(3,-1,-1):\n",
    "    print i"
   ]
  },
  {
   "cell_type": "code",
   "execution_count": 64,
   "metadata": {
    "collapsed": false
   },
   "outputs": [
    {
     "name": "stdout",
     "output_type": "stream",
     "text": [
      "[1234, 1056, 1012, 1900]\n"
     ]
    }
   ],
   "source": [
    "print NList"
   ]
  },
  {
   "cell_type": "code",
   "execution_count": 65,
   "metadata": {
    "collapsed": false
   },
   "outputs": [
    {
     "name": "stdout",
     "output_type": "stream",
     "text": [
      "1234\n",
      "1056\n",
      "1012\n",
      "1900\n"
     ]
    }
   ],
   "source": [
    "for number in NList:\n",
    "    print number"
   ]
  },
  {
   "cell_type": "code",
   "execution_count": null,
   "metadata": {
    "collapsed": true
   },
   "outputs": [],
   "source": []
  }
 ],
 "metadata": {
  "anaconda-cloud": {},
  "kernelspec": {
   "display_name": "Python [default]",
   "language": "python",
   "name": "python2"
  },
  "language_info": {
   "codemirror_mode": {
    "name": "ipython",
    "version": 2
   },
   "file_extension": ".py",
   "mimetype": "text/x-python",
   "name": "python",
   "nbconvert_exporter": "python",
   "pygments_lexer": "ipython2",
   "version": "2.7.12"
  }
 },
 "nbformat": 4,
 "nbformat_minor": 1
}
