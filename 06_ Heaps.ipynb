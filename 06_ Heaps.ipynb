{
 "cells": [
  {
   "cell_type": "code",
   "execution_count": 12,
   "metadata": {
    "collapsed": false
   },
   "outputs": [
    {
     "name": "stdout",
     "output_type": "stream",
     "text": [
      "[0, 5, 8, 10, 20, 34, 56, 100, 110]\n"
     ]
    }
   ],
   "source": [
    "def Max_Heapify(Array,heap_size, i):\n",
    "    \n",
    "    l = Left(i)\n",
    "    r = Right(i)\n",
    "    \n",
    "    \n",
    "    if l<=heap_size and Array[l]>Array[i]:\n",
    "        largest = l\n",
    "    else:\n",
    "        largest = i\n",
    "    if r<=heap_size and Array[r]>Array[largest]:\n",
    "        largest = r\n",
    "    \n",
    "    if largest!=i:\n",
    "        temp = Array[largest]\n",
    "        Array[largest] = Array[i]\n",
    "        Array[i] = temp\n",
    "        Max_Heapify(Array,heap_size,largest)\n",
    "\n",
    "def Build_Max_Heap(Array):\n",
    "    heap_size = len(Array)-1\n",
    "    \n",
    "    for i in range(heap_size/2,0,-1):\n",
    "        Max_Heapify(Array,heap_size, i)  \n",
    "    \n",
    "def Left(i):\n",
    "    return 2*i\n",
    "\n",
    "def Right(i):\n",
    "    return 2*i+1\n",
    "\n",
    "def Heap_Sort(Array):\n",
    "    Build_Max_Heap(Array)\n",
    "    heap_size = len(Array)-1\n",
    "    for i in range(len(Array)-1,1,-1):\n",
    "        temp = Array[1]\n",
    "        Array[1] = Array[i]\n",
    "        Array[i] = temp\n",
    "        heap_size-=1\n",
    "        Max_Heapify(Array, heap_size , 1)\n",
    "    \n",
    "\n",
    "if __name__ == '__main__':\n",
    "    \n",
    "    Array = [0, 100, 34, 56, 20, 110, 10, 5 , 8 ]\n",
    "    \n",
    "    #Build_Max_Heap(Array)\n",
    "    Heap_Sort(Array)\n",
    "    \n",
    "    print Array\n",
    "    "
   ]
  },
  {
   "cell_type": "code",
   "execution_count": null,
   "metadata": {
    "collapsed": true
   },
   "outputs": [],
   "source": []
  },
  {
   "cell_type": "code",
   "execution_count": null,
   "metadata": {
    "collapsed": true
   },
   "outputs": [],
   "source": []
  }
 ],
 "metadata": {
  "anaconda-cloud": {},
  "kernelspec": {
   "display_name": "Python [default]",
   "language": "python",
   "name": "python2"
  },
  "language_info": {
   "codemirror_mode": {
    "name": "ipython",
    "version": 2
   },
   "file_extension": ".py",
   "mimetype": "text/x-python",
   "name": "python",
   "nbconvert_exporter": "python",
   "pygments_lexer": "ipython2",
   "version": "2.7.12"
  }
 },
 "nbformat": 4,
 "nbformat_minor": 1
}
